{
 "cells": [
  {
   "cell_type": "code",
   "execution_count": 1,
   "id": "6245466d-8859-419e-aaa0-e9103ac21932",
   "metadata": {
    "tags": []
   },
   "outputs": [],
   "source": [
    "import pandas as pd\n",
    "import numpy as np\n",
    "import os"
   ]
  },
  {
   "cell_type": "code",
   "execution_count": 2,
   "id": "309205d3-9c6c-4044-b385-3c3e7c6276fc",
   "metadata": {
    "tags": []
   },
   "outputs": [],
   "source": [
    "lineal = pd.read_csv(\"C:/Users/User/Desktop/data.csv\")"
   ]
  },
  {
   "cell_type": "code",
   "execution_count": 10,
   "id": "8b712b2a-006c-42f7-b513-790ddb682251",
   "metadata": {
    "tags": []
   },
   "outputs": [
    {
     "data": {
      "text/html": [
       "<div>\n",
       "<style scoped>\n",
       "    .dataframe tbody tr th:only-of-type {\n",
       "        vertical-align: middle;\n",
       "    }\n",
       "\n",
       "    .dataframe tbody tr th {\n",
       "        vertical-align: top;\n",
       "    }\n",
       "\n",
       "    .dataframe thead th {\n",
       "        text-align: right;\n",
       "    }\n",
       "</style>\n",
       "<table border=\"1\" class=\"dataframe\">\n",
       "  <thead>\n",
       "    <tr style=\"text-align: right;\">\n",
       "      <th></th>\n",
       "      <th>metro</th>\n",
       "      <th>precio</th>\n",
       "    </tr>\n",
       "  </thead>\n",
       "  <tbody>\n",
       "    <tr>\n",
       "      <th>0</th>\n",
       "      <td>5</td>\n",
       "      <td>375</td>\n",
       "    </tr>\n",
       "    <tr>\n",
       "      <th>1</th>\n",
       "      <td>15</td>\n",
       "      <td>487</td>\n",
       "    </tr>\n",
       "    <tr>\n",
       "      <th>2</th>\n",
       "      <td>20</td>\n",
       "      <td>450</td>\n",
       "    </tr>\n",
       "    <tr>\n",
       "      <th>3</th>\n",
       "      <td>25</td>\n",
       "      <td>500</td>\n",
       "    </tr>\n",
       "  </tbody>\n",
       "</table>\n",
       "</div>"
      ],
      "text/plain": [
       "   metro  precio\n",
       "0      5     375\n",
       "1     15     487\n",
       "2     20     450\n",
       "3     25     500"
      ]
     },
     "execution_count": 10,
     "metadata": {},
     "output_type": "execute_result"
    }
   ],
   "source": [
    "lineal.head(5)"
   ]
  },
  {
   "cell_type": "code",
   "execution_count": 18,
   "id": "a209213d-a7e9-4603-b94e-003e935dca43",
   "metadata": {
    "tags": []
   },
   "outputs": [],
   "source": [
    "import matplotlib.pyplot as plt\n",
    "from sklearn import linear_model # usando sklear para saber los valores optimos\n",
    "import seaborn as sns\n",
    "import numpy as np\n",
    "import pandas as pd "
   ]
  },
  {
   "cell_type": "code",
   "execution_count": 21,
   "id": "31261198-9e08-4f4d-b284-d935fe4de73f",
   "metadata": {
    "tags": []
   },
   "outputs": [
    {
     "data": {
      "text/plain": [
       "<bound method NDFrame.describe of    metro  precio\n",
       "0      5     375\n",
       "1     15     487\n",
       "2     20     450\n",
       "3     25     500>"
      ]
     },
     "execution_count": 21,
     "metadata": {},
     "output_type": "execute_result"
    }
   ],
   "source": [
    "lineal.columns\n",
    "lineal.info\n",
    "lineal.describe"
   ]
  },
  {
   "cell_type": "code",
   "execution_count": 22,
   "id": "6fb22b12-1ffd-493d-bb62-cba8492169a1",
   "metadata": {
    "tags": []
   },
   "outputs": [
    {
     "data": {
      "image/png": "[encoded data removed]",
      "text/plain": [
       "<Figure size 640x480 with 1 Axes>"
      ]
     },
     "metadata": {},
     "output_type": "display_data"
    }
   ],
   "source": [
    "lineal.plot.scatter(x=\"metro\", y=\"precio\")\n",
    "plt.show()"
   ]
  },
  {
   "cell_type": "code",
   "execution_count": 23,
   "id": "a269a69d-95b6-4246-89df-137c38617a48",
   "metadata": {
    "tags": []
   },
   "outputs": [],
   "source": [
    "regresion = linear_model.LinearRegression()\n"
   ]
  },
  {
   "cell_type": "code",
   "execution_count": 29,
   "id": "f9491dde-5b51-4b37-8e08-3f55fe8fc0c1",
   "metadata": {
    "tags": []
   },
   "outputs": [],
   "source": [
    "metros = lineal[\"metro\"].values.reshape((-1,1))"
   ]
  },
  {
   "cell_type": "code",
   "execution_count": 33,
   "id": "4074f354-9853-4a17-9f2c-201f1fd82c05",
   "metadata": {
    "tags": []
   },
   "outputs": [
    {
     "name": "stdout",
     "output_type": "stream",
     "text": [
      "Interseccion (b) 361.25714285714287\n",
      "pendiente (m) [5.64571429]\n"
     ]
    }
   ],
   "source": [
    "modelo =regresion.fit(metros, lineal[\"precio\"])\n",
    "\n",
    "print(\"Interseccion (b)\", modelo.intercept_)\n",
    "# imprimimos la pendiente \n",
    "print(\"pendiente (m)\", modelo.coef_)"
   ]
  },
  {
   "cell_type": "code",
   "execution_count": 39,
   "id": "1a053297-8dd4-4efa-98b3-fa379c4b15d3",
   "metadata": {
    "tags": []
   },
   "outputs": [
    {
     "name": "stdout",
     "output_type": "stream",
     "text": [
      "[389.48571429 417.71428571 474.17142857 530.62857143]\n"
     ]
    }
   ],
   "source": [
    "entrada = [[5],[10],[20],[30]]\n",
    "predicciones = modelo.predict(entrada)\n",
    "print(predicciones)"
   ]
  },
  {
   "cell_type": "code",
   "execution_count": 53,
   "id": "ba6ab0be-e76b-45c2-8aa1-f5c1e7eebc69",
   "metadata": {
    "tags": []
   },
   "outputs": [
    {
     "data": {
      "image/png": "[encoded data removed]",
      "text/plain": [
       "<Figure size 640x480 with 1 Axes>"
      ]
     },
     "metadata": {},
     "output_type": "display_data"
    }
   ],
   "source": [
    "lineal.plot.scatter(x=\"metro\", y=\"precio\",label='Datos originale')\n",
    "plt.scatter(entrada, predicciones, color='green')\n",
    "plt.plot(entrada, predicciones, color='red', label='Linea de regresion')\n",
    "plt.xlabel('metro')\n",
    "plt.ylabel('precio')\n",
    "plt.legend()\n",
    "plt.show()"
   ]
  }
 ],
 "metadata": {
  "kernelspec": {
   "display_name": "Python 3 (ipykernel)",
   "language": "python",
   "name": "python3"
  },
  "language_info": {
   "codemirror_mode": {
    "name": "ipython",
    "version": 3
   },
   "file_extension": ".py",
   "mimetype": "text/x-python",
   "name": "python",
   "nbconvert_exporter": "python",
   "pygments_lexer": "ipython3",
   "version": "3.11.4"
  }
 },
 "nbformat": 4,
 "nbformat_minor": 5
}
